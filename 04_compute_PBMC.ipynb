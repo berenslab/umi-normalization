{
 "cells": [
  {
   "cell_type": "code",
   "execution_count": 1,
   "metadata": {},
   "outputs": [
    {
     "data": {
      "text/html": [
       "<style>.container { width:90% !important; }</style>"
      ],
      "text/plain": [
       "<IPython.core.display.HTML object>"
      ]
     },
     "metadata": {},
     "output_type": "display_data"
    }
   ],
   "source": [
    "from IPython.core.display import display, HTML\n",
    "display(HTML(\"<style>.container { width:90% !important; }</style>\"))\n",
    "\n",
    "import pickle\n",
    "import numpy as np\n",
    "from scipy import sparse\n",
    "\n",
    "import matplotlib.pyplot as plt\n",
    "import seaborn as sns\n",
    "plt.rcParams[\"figure.figsize\"] = (5,5)"
   ]
  },
  {
   "cell_type": "markdown",
   "metadata": {},
   "source": [
    "#### Prepare Rpy2-bridge needed to run some of the GLM PCAs in R"
   ]
  },
  {
   "cell_type": "code",
   "execution_count": 3,
   "metadata": {},
   "outputs": [
    {
     "name": "stderr",
     "output_type": "stream",
     "text": [
      "/usr/local/lib/python3.6/dist-packages/rpy2/robjects/pandas2ri.py:14: FutureWarning: pandas.core.index is deprecated and will be removed in a future version.  The public classes are available in the top-level namespace.\n",
      "  from pandas.core.index import Index as PandasIndex\n",
      "/usr/local/lib/python3.6/dist-packages/rpy2/robjects/pandas2ri.py:34: UserWarning: pandas >= 1.0 is not supported.\n",
      "  warnings.warn('pandas >= 1.0 is not supported.')\n"
     ]
    }
   ],
   "source": [
    "from rpy2 import robjects\n",
    "import rpy2.robjects.packages as rpackages\n",
    "from rpy2.robjects import numpy2ri\n",
    "\n",
    "numpy2ri.activate()\n",
    "\n",
    "utils = rpackages.importr('utils')\n",
    "utils.chooseCRANmirror(ind=1) \n",
    "if not rpackages.isinstalled('glmpca'):\n",
    "    utils.install_packages(\"glmpca\")\n",
    "glmnet = rpackages.importr('glmpca')\n",
    "glmpca = robjects.r['glmpca']"
   ]
  },
  {
   "cell_type": "code",
   "execution_count": 4,
   "metadata": {},
   "outputs": [
    {
     "name": "stdout",
     "output_type": "stream",
     "text": [
      "(33148, 16809)\n"
     ]
    }
   ],
   "source": [
    "folder = 'datasets/33k_pbmc/'\n",
    "picklefile = folder+'preprocessed.pickle'\n",
    "dataset = pickle.load(open(picklefile, \"rb\"))\n",
    "print(dataset['counts'].shape)\n",
    "dataset['labelshort'] = '10X v1 33k PBMC'\n",
    "counts = dataset['counts'].toarray()"
   ]
  },
  {
   "cell_type": "markdown",
   "metadata": {},
   "source": [
    "### Analytical residuals"
   ]
  },
  {
   "cell_type": "code",
   "execution_count": 14,
   "metadata": {
    "code_folding": []
   },
   "outputs": [],
   "source": [
    "from tools import  log_transform, normalize_and_scale, pearson_residuals, sqrt_lazy, sqrt_full, PCA_sklearn, kobak_tsne, run_glmpca"
   ]
  },
  {
   "cell_type": "code",
   "execution_count": 6,
   "metadata": {},
   "outputs": [
    {
     "name": "stdout",
     "output_type": "stream",
     "text": [
      "CPU times: user 10.3 s, sys: 7.18 s, total: 17.5 s\n",
      "Wall time: 17.5 s\n",
      "CPU times: user 11.7 s, sys: 2.52 s, total: 14.2 s\n",
      "Wall time: 14.2 s\n"
     ]
    }
   ],
   "source": [
    "%time dataset['residuals_theta100'] = pearson_residuals(counts,100)\n",
    "%time dataset['residuals_theta10'] = pearson_residuals(counts,10)"
   ]
  },
  {
   "cell_type": "markdown",
   "metadata": {},
   "source": [
    "### Sqrt methods"
   ]
  },
  {
   "cell_type": "code",
   "execution_count": 7,
   "metadata": {},
   "outputs": [
    {
     "name": "stdout",
     "output_type": "stream",
     "text": [
      "CPU times: user 4.14 s, sys: 237 ms, total: 4.38 s\n",
      "Wall time: 4.41 s\n",
      "CPU times: user 7.38 s, sys: 4.25 s, total: 11.6 s\n",
      "Wall time: 11.6 s\n"
     ]
    }
   ],
   "source": [
    "%time dataset['sqrt_lazy'] = sqrt_lazy(counts)\n",
    "%time dataset['sqrt_full'] = sqrt_full(counts)"
   ]
  },
  {
   "cell_type": "markdown",
   "metadata": {},
   "source": [
    "### Log methods"
   ]
  },
  {
   "cell_type": "code",
   "execution_count": 8,
   "metadata": {},
   "outputs": [
    {
     "name": "stdout",
     "output_type": "stream",
     "text": [
      "CPU times: user 6.34 s, sys: 1.09 s, total: 7.43 s\n",
      "Wall time: 7.43 s\n",
      "CPU times: user 6.65 s, sys: 657 ms, total: 7.3 s\n",
      "Wall time: 7.3 s\n",
      "CPU times: user 6.46 s, sys: 3.32 s, total: 9.78 s\n",
      "Wall time: 9.78 s\n"
     ]
    }
   ],
   "source": [
    "%time dataset['log1p_noscale'] = log_transform(counts,scale=1,scale_mode='user_provided_scale')  ### equivalent to just normalizing and no log transform\n",
    "%time dataset['log1p_medianscale'] = log_transform(counts,scale_mode='median')\n",
    "%time dataset['log1p_10kscale'] = log_transform(counts,scale=10000,scale_mode='user_provided_scale')"
   ]
  },
  {
   "cell_type": "markdown",
   "metadata": {},
   "source": [
    "### Run GLM PCA"
   ]
  },
  {
   "cell_type": "code",
   "execution_count": 9,
   "metadata": {
    "code_folding": []
   },
   "outputs": [],
   "source": [
    "def glmpca_R(data,fam,tol=10**-4,dataset_label=''):\n",
    "    \n",
    "    basepath = 'glmpca_results/glmpca_%s_%s_tol%s' % (dataset_label,fam,tol)\n",
    "    print('will save at', basepath)\n",
    "    \n",
    "    #create ctl list R object for controlling glmpca\n",
    "    list_r = robjects.r('list')\n",
    "    ctl = list_r(tol=tol,verbose=True)\n",
    "\n",
    "    #make use of sparsity\n",
    "    Y_sparse = data.T.tocoo() ## transpose needed because glmpca wants rows as features\n",
    "    r_Matrix = rpackages.importr(\"Matrix\")\n",
    "    Y_r = r_Matrix.sparseMatrix(i=robjects.IntVector(Y_sparse.row + 1),\n",
    "                                j=robjects.IntVector(Y_sparse.col + 1),\n",
    "                                x=robjects.IntVector(Y_sparse.data),\n",
    "                                dims=robjects.IntVector(Y_sparse.shape))\n",
    "    #use minibatches where possible\n",
    "    if fam=='nb2':\n",
    "        minibatch = 'none'\n",
    "    else:\n",
    "        minibatch = 'stochastic'\n",
    "    \n",
    "\n",
    "    ### Run GLM PCA in R\n",
    "    robjects.r(\"set.seed(202)\")\n",
    "    \n",
    "    res = glmpca(Y_r,50,fam=fam,minibatch=minibatch,ctl=ctl)\n",
    "\n",
    "    ### Save raw\n",
    "    with open(basepath + '_raw.pickle' ,\"wb\") as f:\n",
    "        pickle.dump(res,f)\n",
    "\n",
    "    ### Convert to python friendly shape and save\n",
    "    res_dict = {name:data for name,data in res.items()}\n",
    "    res_dict['ctl'] = {name:data for name,data in res_dict['ctl'].items()}\n",
    "    gf = {name:data for name,data in res_dict['glmpca_family'].items()}\n",
    "    res_dict.pop('glmpca_family')\n",
    "    factors = res_dict['factors'].values\n",
    "    with open(basepath + '_pyOnly.pickle',\"wb\") as f:\n",
    "        pickle.dump(res_dict,f)\n",
    "    with open(basepath + '_familyRattribute.pickle',\"wb\") as f:\n",
    "        pickle.dump(gf,f)\n",
    "    with open(basepath + '_factors.pickle',\"wb\") as f:\n",
    "        pickle.dump(factors,f)"
   ]
  },
  {
   "cell_type": "code",
   "execution_count": 10,
   "metadata": {},
   "outputs": [],
   "source": [
    "### GLMPCA R: Poisson, higher convergence threshold\n",
    "glmpca_R(data=dataset['counts'],fam='poi',tol=10**-8,dataset_label='pbmc')\n",
    "### GLMPCA R: NB, fit shared theta\n",
    "glmpca_R(data=dataset['counts'],fam='nb',dataset_label='pbmc')\n",
    "### GLMPCA R: NB, fit theta per gene\n",
    "glmpca_R(data=dataset['counts'],fam='nb2',dataset_label='pbmc')\n",
    "### GLMPCA Python: NB, fixed theta=100\n",
    "run_glmpca(counts,fam='nb',optimize_nb_theta=False,theta=100,dataset_label='pbmc')"
   ]
  },
  {
   "cell_type": "markdown",
   "metadata": {
    "code_folding": []
   },
   "source": [
    "### Load GLM PCA results"
   ]
  },
  {
   "cell_type": "code",
   "execution_count": 12,
   "metadata": {
    "code_folding": []
   },
   "outputs": [],
   "source": [
    "### GLMPCA R: Poisson, higher convergence threshold\n",
    "with open('glmpca_results/glmpca_pbmc_poi_tol1e-08_factors.pickle',\"rb\") as f:\n",
    "    dataset['glmpca_poi_tol10-8'] = pickle.load(f)    \n",
    "### GLMPCA R: NB, fit shared theta\n",
    "with open('glmpca_results/glmpca_pbmc_nb_tol0.0001_factors.pickle',\"rb\") as f:\n",
    "    dataset['glmpca_nb'] = pickle.load(f)    \n",
    "### GLMPCA R: NB, fit theta per gene\n",
    "with open('glmpca_results/glmpca_pbmc_nb2_tol0.0001_factors.pickle',\"rb\") as f:\n",
    "    dataset['glmpca_nb2'] = pickle.load(f)\n",
    "### GLMPCA Python: NB, fixed theta=100\n",
    "with open('glmpca_results/pbmcglmpca-py_nb_fixedTheta100_penalty1.pickle',\"rb\") as f:\n",
    "    dataset['glmpca_nb_thetaFixed100']= pickle.load(f)['factors']"
   ]
  },
  {
   "cell_type": "markdown",
   "metadata": {},
   "source": [
    "### Compute tSNEs"
   ]
  },
  {
   "cell_type": "code",
   "execution_count": 13,
   "metadata": {
    "code_folding": []
   },
   "outputs": [
    {
     "name": "stdout",
     "output_type": "stream",
     "text": [
      "variance explained by top50 PCs: 21 %\n"
     ]
    }
   ],
   "source": [
    "## Prepare init\n",
    "_,sqrt_lazy_init = PCA_sklearn(dataset['sqrt_lazy'],50,42)\n",
    "## Compute \n",
    "_ = kobak_tsne(dataset['sqrt_lazy'],name='pbmc_sqrt_lazy_initsqrtLazy',do_pca=True,init=sqrt_lazy_init)\n",
    "_ = kobak_tsne(dataset['sqrt_full'],name='pbmc_sqrt_full_initsqrtLazy',do_pca=True,init=sqrt_lazy_init)\n",
    "\n",
    "_ = kobak_tsne(dataset['residuals_theta100'],name='pbmc_residuals_theta100_initsqrtLazy',do_pca=True,init=sqrt_lazy_init)\n",
    "_ = kobak_tsne(dataset['residuals_theta10'],name='pbmc_residuals_theta10_initsqrtLazy',do_pca=True,init=sqrt_lazy_init)\n",
    "\n",
    "_ = kobak_tsne(dataset['glmpca_poi_tol10-8'],name='pbmc_glmpca_poi_tol10-8_initsqrtLazy',do_pca=False,init=sqrt_lazy_init)\n",
    "_ = kobak_tsne(dataset['glmpca_nb'],name='pbmc_glmpca_nb_initsqrtLazy',do_pca=False,init=sqrt_lazy_init)\n",
    "_ = kobak_tsne(dataset['glmpca_nb2'],name='pbmc_glmpca_nb2_initsqrtLazy',do_pca=False,init=sqrt_lazy_init)\n",
    "_ = kobak_tsne(dataset['glmpca_nb_thetaFixed100'],name='glmpca_nb_thetaFixed100_initsqrtLazy',do_pca=False,init=sqrt_lazy_init)\n",
    "\n",
    "_ = kobak_tsne(dataset['log1p_noscale'],name='pbmc_log1p_noscale_initsqrtLazy',do_pca=True,init=sqrt_lazy_init)\n",
    "_ = kobak_tsne(dataset['log1p_medianscale'],name='pbmc_log1p_medianscale_initsqrtLazy',do_pca=True,init=sqrt_lazy_init)\n",
    "_ = kobak_tsne(dataset['log1p_10kscale'],name='pbmc_log1p_10kscale_initsqrtLazy',do_pca=True,init=sqrt_lazy_init)"
   ]
  },
  {
   "cell_type": "markdown",
   "metadata": {},
   "source": [
    "### Downsampling Experiment"
   ]
  },
  {
   "cell_type": "code",
   "execution_count": 37,
   "metadata": {},
   "outputs": [
    {
     "name": "stdout",
     "output_type": "stream",
     "text": [
      "removing 0 cells and 1258 genes with zero counts\n"
     ]
    },
    {
     "data": {
      "image/png": "[encoded data removed]",
      "text/plain": [
       "<Figure size 360x360 with 1 Axes>"
      ]
     },
     "metadata": {
      "needs_background": "light"
     },
     "output_type": "display_data"
    }
   ],
   "source": [
    "clusters = np.array(pd.read_csv('datasets/33k_pbmc/analysis/kmeans/10_clusters/clusters.csv')['Cluster'])\n",
    "counts_downsamplingExp = counts[clusters==2,:]\n",
    "\n",
    "#randomly pick half of the cells\n",
    "group1_size = int(np.ceil(counts_downsamplingExp.shape[0]/2))\n",
    "seed = 42\n",
    "np.random.seed(seed)\n",
    "cell_idx_shuffled = np.random.permutation(np.arange(counts_downsamplingExp.shape[0]))\n",
    "cell_idx_group1 = cell_idx_shuffled[:group1_size]\n",
    "cell_idx_group2 = cell_idx_shuffled[group1_size:]\n",
    "\n",
    "counts_group1 = counts_downsamplingExp[cell_idx_group1,:].astype(int)\n",
    "counts_group2 = counts_downsamplingExp[cell_idx_group2,:].astype(int)\n",
    "\n",
    "#downsample group 1 to 50% depth\n",
    "seed = 42\n",
    "np.random.seed(seed)\n",
    "counts_downsampled_group1 = np.random.binomial(counts_group1,0.5)\n",
    "\n",
    "#concatenate again\n",
    "counts_postdownsampling = np.concatenate((counts_downsampled_group1,counts_group2),axis=0)\n",
    "#remove zero rows and columns\n",
    "zero_genes_idx = np.sum(counts_postdownsampling,axis=0) == 0 \n",
    "zero_cells_idx = np.sum(counts_postdownsampling,axis=1) == 0\n",
    "print('removing', sum(zero_cells_idx),'cells and',sum(zero_genes_idx),'genes with zero counts')\n",
    "counts_postdownsampling = counts_postdownsampling[:,~zero_genes_idx]\n",
    "counts_postdownsampling = counts_postdownsampling[~zero_cells_idx,:]\n",
    "depths_postdownsampling = np.sum(counts_postdownsampling,axis=1)\n",
    "\n",
    "#plot depth per cell\n",
    "with sns.plotting_context('talk'):\n",
    "    plt.plot(depths_postdownsampling,'.')\n",
    "    plt.xlabel('cell')\n",
    "    plt.ylabel('depth')\n",
    "    plt.yscale('log')\n",
    "    sns.despine()"
   ]
  },
  {
   "cell_type": "markdown",
   "metadata": {},
   "source": [
    "#### Apply GLM PCA"
   ]
  },
  {
   "cell_type": "code",
   "execution_count": null,
   "metadata": {},
   "outputs": [],
   "source": [
    "run_glmpca(counts_postdownsampling,fam='nb',optimize_nb_theta=False,theta=100,dataset_label = 'pbmc_downsamplingExp_')"
   ]
  },
  {
   "cell_type": "markdown",
   "metadata": {},
   "source": [
    "#### Apply other methods"
   ]
  },
  {
   "cell_type": "code",
   "execution_count": 38,
   "metadata": {},
   "outputs": [],
   "source": [
    "normalized_postdownsampling = normalize_and_scale(counts_postdownsampling,scale=1)\n",
    "log1p_normalized_scaleMedian_postdownsampling = log_transform(counts_postdownsampling,scale_mode='median')\n",
    "log1p_normalized_scale10k_postdownsampling = log_transform(counts_postdownsampling,scale=10000,scale_mode='user_provided_scale')\n",
    "\n",
    "sqrt_normalized_postdownsampling = sqrt_lazy(counts_postdownsampling)\n",
    "pearson_residuals_postdownsampling = pearson_residuals(counts_postdownsampling,theta=100)\n",
    "with open('glmpca_results/pbmc_downsamplingExp_glmpca-py_nb_fixedTheta100_penalty1.pickle','rb') as f:\n",
    "    glmpca_postdownsampling = pickle.load(f)['factors']"
   ]
  },
  {
   "cell_type": "markdown",
   "metadata": {},
   "source": [
    "#### Compute tSNEs"
   ]
  },
  {
   "cell_type": "code",
   "execution_count": 39,
   "metadata": {},
   "outputs": [],
   "source": [
    "#get PCA of the pearson version for init\n",
    "_,PCAinit = PCA_sklearn(sqrt_normalized_postdownsampling,50,42)\n",
    "# compute tSNEs\n",
    "_ = kobak_tsne(log1p_normalized_scale10k_postdownsampling,name='pbmc_downsamplingExp_log1p_normalized_scale10k',init=PCAinit)\n",
    "_ = kobak_tsne(log1p_normalized_scaleMedian_postdownsampling,name='pbmc_downsamplingExp_log1p_normalized_scaleMedian',init=PCAinit)\n",
    "_ = kobak_tsne(normalized_postdownsampling,name='pbmc_downsamplingExp_normalized',init=PCAinit)\n",
    "_ = kobak_tsne(sqrt_normalized_postdownsampling,name='pbmc_downsamplingExp_sqrt_normalized',init=PCAinit)\n",
    "_ = kobak_tsne(pearson_residuals_postdownsampling,name='pbmc_downsamplingExp_residuals',init=PCAinit)\n",
    "_ = kobak_tsne(glmpca_postdownsampling,name='pbmc_downsamplingExp_glmpca',init=PCAinit,do_pca=False)"
   ]
  },
  {
   "cell_type": "markdown",
   "metadata": {},
   "source": [
    "### Gene selection based on Analytical Pearson Residuals\n",
    "\n",
    "#### Select genes"
   ]
  },
  {
   "cell_type": "code",
   "execution_count": null,
   "metadata": {},
   "outputs": [],
   "source": [
    "residual_var = np.var(dataset['residuals_theta100'],axis=0)\n",
    "maxvar_idx = np.argsort(residual_var)[-1000:]\n",
    "counts_maxResidualVar = counts[:,maxvar_idx]\n",
    "genes_maxResidualVar = dataset['genes'][maxvar_idx]"
   ]
  },
  {
   "cell_type": "markdown",
   "metadata": {},
   "source": [
    "#### Compute sqrt(x), residuals, glmpca on reduced count matrix"
   ]
  },
  {
   "cell_type": "code",
   "execution_count": null,
   "metadata": {},
   "outputs": [],
   "source": [
    "run_glmpca(counts_maxResidualVar,fam='nb',optimize_nb_theta=False,theta=100,dataset_label='pbmc_maxResidualVarSelectionExp_',penalty=5)"
   ]
  },
  {
   "cell_type": "code",
   "execution_count": null,
   "metadata": {},
   "outputs": [],
   "source": [
    "with open('glmpca_results/pbmc_maxResidualVarSelectionExp_glmpca-py_nb_fixedTheta100_penalty5.pickle','rb') as f:\n",
    "    glmpca_theta100_maxResSelection = pickle.load(f)['factors']\n",
    "residuals_theta100_maxResSelection = pearson_residuals(counts_maxResidualVar,100)\n",
    "sqrt_lazy_maxResSelection =sqrt_lazy(counts_maxResidualVar)"
   ]
  },
  {
   "cell_type": "markdown",
   "metadata": {},
   "source": [
    "#### Compute tSNEs"
   ]
  },
  {
   "cell_type": "code",
   "execution_count": 44,
   "metadata": {
    "code_folding": []
   },
   "outputs": [],
   "source": [
    "_,sqrt_lazy_maxResSelection_init = PCA_sklearn(sqrt_lazy_maxResSelection,50,42)\n",
    "\n",
    "_ = kobak_tsne(sqrt_lazy_maxResSelection,name='pbmc_maxResSelection_sqrt_lazy_initsqrtLazy',do_pca=True,init=sqrt_lazy_maxResSelection_init)\n",
    "_ = kobak_tsne(residuals_theta100_maxResSelection,name='pbmc_maxResSelection_residuals_theta100_initsqrtLazy',do_pca=True,init=sqrt_lazy_maxResSelection_init)\n",
    "_ = kobak_tsne(glmpca_theta100_maxResSelection,name='pbmc_maxResSelection_glmpca_nb_thetaFixed100_initsqrtLazy',do_pca=False,init=sqrt_lazy_maxResSelection_init)"
   ]
  }
 ],
 "metadata": {
  "kernelspec": {
   "display_name": "Python 3",
   "language": "python",
   "name": "python3"
  },
  "language_info": {
   "codemirror_mode": {
    "name": "ipython",
    "version": 3
   },
   "file_extension": ".py",
   "mimetype": "text/x-python",
   "name": "python",
   "nbconvert_exporter": "python",
   "pygments_lexer": "ipython3",
   "version": "3.6.9"
  },
  "varInspector": {
   "cols": {
    "lenName": 16,
    "lenType": 16,
    "lenVar": 40
   },
   "kernels_config": {
    "python": {
     "delete_cmd_postfix": "",
     "delete_cmd_prefix": "del ",
     "library": "var_list.py",
     "varRefreshCmd": "print(var_dic_list())"
    },
    "r": {
     "delete_cmd_postfix": ") ",
     "delete_cmd_prefix": "rm(",
     "library": "var_list.r",
     "varRefreshCmd": "cat(var_dic_list()) "
    }
   },
   "types_to_exclude": [
    "module",
    "function",
    "builtin_function_or_method",
    "instance",
    "_Feature"
   ],
   "window_display": false
  }
 },
 "nbformat": 4,
 "nbformat_minor": 4
}
