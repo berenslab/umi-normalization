{
 "cells": [
  {
   "cell_type": "code",
   "execution_count": 2,
   "metadata": {},
   "outputs": [],
   "source": [
    "import pickle\n",
    "import pandas as pd\n",
    "import numpy as np\n",
    "from scipy import sparse\n",
    "\n",
    "from tools import remove_rare_genes, rnaseqTools"
   ]
  },
  {
   "cell_type": "markdown",
   "metadata": {},
   "source": [
    "# Macosko 2015: All cell types"
   ]
  },
  {
   "cell_type": "code",
   "execution_count": 3,
   "metadata": {},
   "outputs": [
    {
     "name": "stdout",
     "output_type": "stream",
     "text": [
      "......................... done\n"
     ]
    }
   ],
   "source": [
    "#read count and cluster data\n",
    "countfile = 'datasets/retina/macosko_all/GSE63472_P14Retina_merged_digital_expression.txt'\n",
    "clusterfile = 'datasets/retina/macosko_all/retina_clusteridentities.txt'\n",
    "counts, genes, cells = rnaseqTools.sparseload(countfile, sep='\\t')\n",
    "genes = np.array([g.capitalize() for g in genes])\n",
    "cluster_assignments = pd.read_csv(clusterfile, sep='\\t', header=None)"
   ]
  },
  {
   "cell_type": "code",
   "execution_count": 4,
   "metadata": {},
   "outputs": [
    {
     "name": "stdout",
     "output_type": "stream",
     "text": [
      "Of 23743 total genes, returning 19285 genes that are detected in 5 or more cells.\n",
      "Output shape: (44808, 19285)\n"
     ]
    }
   ],
   "source": [
    "cells_clustered = cluster_assignments[0].values\n",
    "clusters = cluster_assignments[1].values\n",
    "cell2cluster = dict(zip(cells_clustered, clusters))\n",
    "\n",
    "#keep only cells that have a cluster assignment\n",
    "cells_clustered_idx = np.isin(cells, cells_clustered)\n",
    "cells = cells[cells_clustered_idx]\n",
    "counts = counts[cells_clustered_idx,:]\n",
    "\n",
    "#keep only genes with detections in 5 or more cells\n",
    "counts,genes = remove_rare_genes(counts,genes,5)\n",
    "\n",
    "#get numeric cluster identities\n",
    "clusters = np.array([cell2cluster[c] for c in cells]) - 1\n",
    "\n",
    "#setup class names\n",
    "amacrines = {i : 'Amacrine cells' for i in range(2,23+1)}\n",
    "bipolars = {i : 'Bipolar cells' for i in range(25,33+1)}\n",
    "rest = {0 : 'Horizontal cells',\n",
    "                        1 : 'Ganglion cells',\n",
    "                        23: 'Rods',\n",
    "                        24: 'Cones',\n",
    "                        33: 'Mueller glia',\n",
    "                        34: 'Astrocytes',\n",
    "                        35: 'Fibroblasts',\n",
    "                        36: 'Vascular endothelium',\n",
    "                        37: 'Pericytes',\n",
    "                        38: 'Microglia'}\n",
    "classmapping= {**bipolars,**amacrines,**rest}\n",
    "class_names = np.array([classmapping[i] for i in range(39)])\n",
    "\n",
    "#setup unique cluster names\n",
    "cluster_names = np.array(['                    ']*39)\n",
    "for i in range(39):\n",
    "    if classmapping[i] in ['Amacrine cells','Bipolar cells']:\n",
    "        cluster_names[i]=classmapping[i]+' (%u)'%(i)\n",
    "    else: \n",
    "        cluster_names[i]=classmapping[i]\n",
    "\n",
    "#get batch identities\n",
    "replicates = [c.split('_')[0] for c in cells]\n",
    "replicate_names,replicates = np.unique(replicates,return_inverse=True)\n",
    "\n",
    "#use batch/replicate identity to get the two larger batches\n",
    "assert np.all(replicate_names==np.array(['p1','r1','r2','r3','r4','r5','r6']))\n",
    "macosco_replicate_ids = np.array([7, 1, 2, 3, 4, 5, 6]) #see suppl. text of macosko paper\n",
    "macosco_batch_ids = np.array([1, 0, 0, 0, 1, 1, 1]) #see suppl. text of macosko paper\n",
    "batches = macosco_batch_ids[replicates]"
   ]
  },
  {
   "cell_type": "code",
   "execution_count": 5,
   "metadata": {
    "code_folding": []
   },
   "outputs": [],
   "source": [
    "dataset = dict(counts= counts,\n",
    "               genes = genes,\n",
    "               clusters = clusters,\n",
    "               cluster_names = cluster_names,\n",
    "               class_names = class_names,\n",
    "               batches = batches,\n",
    "               replicates=replicates,\n",
    "               replicate_names=replicate_names,\n",
    "               replicate_ids=macosco_replicate_ids,\n",
    "               batch_ids_per_replicate=macosco_batch_ids,\n",
    "               clusterfile = clusterfile,\n",
    "               countfile=countfile,\n",
    "               label = 'Macosko2015')"
   ]
  },
  {
   "cell_type": "code",
   "execution_count": 6,
   "metadata": {},
   "outputs": [
    {
     "name": "stdout",
     "output_type": "stream",
     "text": [
      "counts <class 'scipy.sparse.csc.csc_matrix'>\n",
      "genes <class 'numpy.ndarray'>\n",
      "clusters <class 'numpy.ndarray'>\n",
      "cluster_names <class 'numpy.ndarray'>\n",
      "class_names <class 'numpy.ndarray'>\n",
      "batches <class 'numpy.ndarray'>\n",
      "replicates <class 'numpy.ndarray'>\n",
      "replicate_names <class 'numpy.ndarray'>\n",
      "replicate_ids <class 'numpy.ndarray'>\n",
      "batch_ids_per_replicate <class 'numpy.ndarray'>\n",
      "clusterfile <class 'str'>\n",
      "countfile <class 'str'>\n",
      "label <class 'str'>\n"
     ]
    },
    {
     "data": {
      "text/plain": [
       "[None, None, None, None, None, None, None, None, None, None, None, None, None]"
      ]
     },
     "execution_count": 6,
     "metadata": {},
     "output_type": "execute_result"
    }
   ],
   "source": [
    "[print(k, type(dataset[k])) for k in dataset.keys()]"
   ]
  },
  {
   "cell_type": "code",
   "execution_count": 7,
   "metadata": {},
   "outputs": [
    {
     "name": "stdout",
     "output_type": "stream",
     "text": [
      "{'counts': <44808x19285 sparse matrix of type '<class 'numpy.float64'>'\n",
      "\twith 32796924 stored elements in Compressed Sparse Column format>, 'genes': array(['Kitl', 'Tmtc3', 'Cep290', ..., 'Gm22701', 'Gm21464', 'Bc021614'],\n",
      "      dtype='<U14'), 'clusters': array([ 1,  1,  1, ...,  1, 23, 23]), 'cluster_names': array(['Horizontal cells', 'Ganglion cells', 'Amacrine cells (2)',\n",
      "       'Amacrine cells (3)', 'Amacrine cells (4)', 'Amacrine cells (5)',\n",
      "       'Amacrine cells (6)', 'Amacrine cells (7)', 'Amacrine cells (8)',\n",
      "       'Amacrine cells (9)', 'Amacrine cells (10)', 'Amacrine cells (11)',\n",
      "       'Amacrine cells (12)', 'Amacrine cells (13)',\n",
      "       'Amacrine cells (14)', 'Amacrine cells (15)',\n",
      "       'Amacrine cells (16)', 'Amacrine cells (17)',\n",
      "       'Amacrine cells (18)', 'Amacrine cells (19)',\n",
      "       'Amacrine cells (20)', 'Amacrine cells (21)',\n",
      "       'Amacrine cells (22)', 'Rods', 'Cones', 'Bipolar cells (25)',\n",
      "       'Bipolar cells (26)', 'Bipolar cells (27)', 'Bipolar cells (28)',\n",
      "       'Bipolar cells (29)', 'Bipolar cells (30)', 'Bipolar cells (31)',\n",
      "       'Bipolar cells (32)', 'Mueller glia', 'Astrocytes', 'Fibroblasts',\n",
      "       'Vascular endothelium', 'Pericytes', 'Microglia'], dtype='<U20'), 'class_names': array(['Horizontal cells', 'Ganglion cells', 'Amacrine cells',\n",
      "       'Amacrine cells', 'Amacrine cells', 'Amacrine cells',\n",
      "       'Amacrine cells', 'Amacrine cells', 'Amacrine cells',\n",
      "       'Amacrine cells', 'Amacrine cells', 'Amacrine cells',\n",
      "       'Amacrine cells', 'Amacrine cells', 'Amacrine cells',\n",
      "       'Amacrine cells', 'Amacrine cells', 'Amacrine cells',\n",
      "       'Amacrine cells', 'Amacrine cells', 'Amacrine cells',\n",
      "       'Amacrine cells', 'Amacrine cells', 'Rods', 'Cones',\n",
      "       'Bipolar cells', 'Bipolar cells', 'Bipolar cells', 'Bipolar cells',\n",
      "       'Bipolar cells', 'Bipolar cells', 'Bipolar cells', 'Bipolar cells',\n",
      "       'Mueller glia', 'Astrocytes', 'Fibroblasts',\n",
      "       'Vascular endothelium', 'Pericytes', 'Microglia'], dtype='<U20'), 'batches': array([0, 0, 0, ..., 1, 1, 1]), 'replicates': array([1, 1, 1, ..., 0, 0, 0]), 'replicate_names': array(['p1', 'r1', 'r2', 'r3', 'r4', 'r5', 'r6'], dtype='<U2'), 'replicate_ids': array([7, 1, 2, 3, 4, 5, 6]), 'batch_ids_per_replicate': array([1, 0, 0, 0, 1, 1, 1]), 'clusterfile': 'datasets/retina/macosko_all/retina_clusteridentities.txt', 'countfile': 'datasets/retina/macosko_all/GSE63472_P14Retina_merged_digital_expression.txt', 'label': 'Macosko2015'}\n"
     ]
    }
   ],
   "source": [
    "print(dataset)"
   ]
  },
  {
   "cell_type": "code",
   "execution_count": 8,
   "metadata": {
    "code_folding": []
   },
   "outputs": [],
   "source": [
    "with open(countfile + '_preprocessed.pickle', \"wb\") as f:\n",
    "    pickle.dump(dataset, f, protocol=4)"
   ]
  },
  {
   "cell_type": "markdown",
   "metadata": {},
   "source": [
    "# Shekhar 2016: Bipolar cells"
   ]
  },
  {
   "cell_type": "code",
   "execution_count": 9,
   "metadata": {},
   "outputs": [
    {
     "name": "stdout",
     "output_type": "stream",
     "text": [
      "......................... done\n",
      "Of 23831 total genes, returning 18396 genes that are detected in 5 or more cells.\n",
      "Output shape: (27499, 18396)\n"
     ]
    }
   ],
   "source": [
    "#read count and cluster data\n",
    "countfile = 'datasets/retina/shekhar_bipolar/GSE81904_BipolarUMICounts_Cell2016.txt.gz'\n",
    "clusterfile = 'datasets/retina/shekhar_bipolar/clust_retinal_bipolar.txt'\n",
    "counts, genes, cells = rnaseqTools.sparseload(countfile, sep='\\t')\n",
    "genes = np.array([g.capitalize() for g in genes])\n",
    "cluster_assignments = pd.read_csv(clusterfile, sep='\\t')\n",
    "\n",
    "cells_clustered = cluster_assignments['NAME']\n",
    "clusters = cluster_assignments['CLUSTER']\n",
    "cell2cluster = dict(zip(cells_clustered, clusters))\n",
    "\n",
    "#keep only cells that have a cluster assignment\n",
    "cells_clustered_idx = np.isin(cells, cells_clustered)\n",
    "cells = cells[cells_clustered_idx]\n",
    "counts = counts[cells_clustered_idx,:]\n",
    "\n",
    "#keep only genes with detections in 5 or more cells\n",
    "counts,genes=remove_rare_genes(counts,genes,5)\n",
    "\n",
    "#get cluster identities\n",
    "clusters = np.array([cell2cluster[c] for c in cells])\n",
    "\n",
    "#fix cluster names and make clusters numeric\n",
    "cluster_names, clusters = np.unique(clusters, return_inverse=True)\n",
    "cluster_names[cluster_names=='BC5A (Cone Bipolar cell 5A)'] = 'BC5A'\n",
    "cluster_names[cluster_names=='BC7 (Cone Bipolar cell 7)'] = 'BC7'\n",
    "cluster_names[cluster_names=='BC8/9 (mixture of BC8 and BC9)'] = 'BC8/9'\n",
    "cluster_names[cluster_names=='AC (Amacrine cell)'] = 'Amacrine cells'\n",
    "cluster_names[cluster_names=='Cone Photoreceptors'] = 'Cones'\n",
    "cluster_names[cluster_names=='Rod Photoreceptors'] = 'Rods'\n",
    "cluster_names[cluster_names=='MG (Mueller Glia)'] = 'Mueller Glia'\n",
    "cluster_names[cluster_names=='RBC (Rod Bipolar cell)'] = 'RBC'"
   ]
  },
  {
   "cell_type": "code",
   "execution_count": 10,
   "metadata": {},
   "outputs": [],
   "source": [
    "#get replicate identities\n",
    "replicates = [c.split('_')[0] for c in cells]\n",
    "replicate_names,replicates = np.unique(replicates,return_inverse=True)\n",
    "\n",
    "#use batch/replicate identity to get the two larger batches\n",
    "assert np.all(replicate_names==np.array(['Bipolar1','Bipolar2','Bipolar3','Bipolar4','Bipolar5','Bipolar6']))\n",
    "shekhar_replicate_ids = np.array([1, 2, 3, 4, 1, 2]) \n",
    "shekhar_batch_ids = np.array([1, 1, 1, 1, 2, 2]) \n",
    "batches = shekhar_batch_ids[replicates]"
   ]
  },
  {
   "cell_type": "code",
   "execution_count": 11,
   "metadata": {},
   "outputs": [],
   "source": [
    "dataset = dict(counts=counts,\n",
    "               genes=genes, \n",
    "               clusters=clusters, \n",
    "               cluster_names=cluster_names,\n",
    "               batches=batches,\n",
    "               replicates=replicates,\n",
    "               replicate_names=replicate_names,\n",
    "               replicate_ids=shekhar_replicate_ids,\n",
    "               batch_ids_per_replicate=shekhar_batch_ids,\n",
    "               countfile=countfile,\n",
    "               clusterfile=clusterfile,\n",
    "               label='Shekhar 2016, clustered cells only')"
   ]
  },
  {
   "cell_type": "code",
   "execution_count": 12,
   "metadata": {
    "scrolled": true
   },
   "outputs": [
    {
     "name": "stdout",
     "output_type": "stream",
     "text": [
      "counts <class 'scipy.sparse.csc.csc_matrix'>\n",
      "genes <class 'numpy.ndarray'>\n",
      "clusters <class 'numpy.ndarray'>\n",
      "cluster_names <class 'numpy.ndarray'>\n",
      "batches <class 'numpy.ndarray'>\n",
      "replicates <class 'numpy.ndarray'>\n",
      "replicate_names <class 'numpy.ndarray'>\n",
      "replicate_ids <class 'numpy.ndarray'>\n",
      "batch_ids_per_replicate <class 'numpy.ndarray'>\n",
      "countfile <class 'str'>\n",
      "clusterfile <class 'str'>\n",
      "label <class 'str'>\n"
     ]
    },
    {
     "data": {
      "text/plain": [
       "[None, None, None, None, None, None, None, None, None, None, None, None]"
      ]
     },
     "execution_count": 12,
     "metadata": {},
     "output_type": "execute_result"
    }
   ],
   "source": [
    "[print(k, type(dataset[k])) for k in dataset.keys()]"
   ]
  },
  {
   "cell_type": "code",
   "execution_count": 13,
   "metadata": {},
   "outputs": [
    {
     "name": "stdout",
     "output_type": "stream",
     "text": [
      "{'counts': <27499x18396 sparse matrix of type '<class 'numpy.float64'>'\n",
      "\twith 24258648 stored elements in Compressed Sparse Column format>, 'genes': array(['0610005c13rik', '0610007p14rik', '0610009b22rik', ..., 'N-r5s29',\n",
      "       'N-r5s40', 'N-r5s8'], dtype='<U14'), 'clusters': array([10, 15, 11, ..., 12,  3,  7]), 'cluster_names': array(['Amacrine cells', 'BC1A', 'BC1B', 'BC2', 'BC3A', 'BC3B', 'BC4',\n",
      "       'BC5A', 'BC5B', 'BC5C', 'BC5D', 'BC6', 'BC7', 'BC8/9', 'Cones',\n",
      "       'Doublets/Contaminants', 'Mueller Glia', 'RBC', 'Rods'],\n",
      "      dtype='<U30'), 'batches': array([1, 1, 1, ..., 2, 2, 2]), 'replicates': array([0, 0, 0, ..., 5, 5, 5]), 'replicate_names': array(['Bipolar1', 'Bipolar2', 'Bipolar3', 'Bipolar4', 'Bipolar5',\n",
      "       'Bipolar6'], dtype='<U8'), 'replicate_ids': array([1, 2, 3, 4, 1, 2]), 'batch_ids_per_replicate': array([1, 1, 1, 1, 2, 2]), 'countfile': 'datasets/retina/shekhar_bipolar/GSE81904_BipolarUMICounts_Cell2016.txt.gz', 'clusterfile': 'datasets/retina/shekhar_bipolar/clust_retinal_bipolar.txt', 'label': 'Shekhar 2016, clustered cells only'}\n"
     ]
    }
   ],
   "source": [
    "print(dataset)"
   ]
  },
  {
   "cell_type": "code",
   "execution_count": 14,
   "metadata": {},
   "outputs": [],
   "source": [
    "with open(countfile + '_preprocessed.pickle', \"wb\") as f:\n",
    "    pickle.dump(dataset, f, protocol=4)"
   ]
  },
  {
   "cell_type": "markdown",
   "metadata": {},
   "source": [
    "# Tran 2019: Ganglion cells"
   ]
  },
  {
   "cell_type": "code",
   "execution_count": 3,
   "metadata": {},
   "outputs": [],
   "source": [
    "clusterfile = 'datasets/retina/tran_ganglion/RGC_Atlas_coordinates.txt'\n",
    "countfile_normalized = 'datasets/retina/tran_ganglion/RGC_Atlas.csv'\n",
    "countfile = 'datasets/retina/tran_ganglion/GSE133382_AtlasRGCs_CountMatrix.csv'"
   ]
  },
  {
   "cell_type": "code",
   "execution_count": 4,
   "metadata": {},
   "outputs": [],
   "source": [
    "annotations = pd.read_csv(clusterfile, sep='\\t', header=[0,1])"
   ]
  },
  {
   "cell_type": "code",
   "execution_count": 5,
   "metadata": {},
   "outputs": [
    {
     "name": "stdout",
     "output_type": "stream",
     "text": [
      "............................ done\n"
     ]
    }
   ],
   "source": [
    "counts, genes, cells = rnaseqTools.sparseload(countfile, sep=',')"
   ]
  },
  {
   "cell_type": "code",
   "execution_count": 6,
   "metadata": {},
   "outputs": [
    {
     "name": "stdout",
     "output_type": "stream",
     "text": [
      "................... done\n"
     ]
    }
   ],
   "source": [
    "#we look at the normalized count matrix from the broadinstitute download to obtain the gene selection from Tran 2019\n",
    "counts_norm, genes_norm, cells_norm = rnaseqTools.sparseload(countfile_normalized, sep=',')"
   ]
  },
  {
   "cell_type": "code",
   "execution_count": 7,
   "metadata": {},
   "outputs": [],
   "source": [
    "cells_in_clustering = list(annotations[('NAME','TYPE')])\n",
    "clusters = list(annotations[('Cluster','group')])\n",
    "cluster_names, clusters = np.unique(clusters, return_inverse=True)\n",
    "batches = list(annotations[('BatchID','group')])\n",
    "batch_names,batches = np.unique(batches,return_inverse=True)"
   ]
  },
  {
   "cell_type": "code",
   "execution_count": 9,
   "metadata": {},
   "outputs": [],
   "source": [
    "cell_isin_clustering = np.isin(cells,cells_in_clustering)\n",
    "gene_isin_normdata = np.isin(genes,genes_norm)"
   ]
  },
  {
   "cell_type": "code",
   "execution_count": 10,
   "metadata": {},
   "outputs": [],
   "source": [
    "counts = counts[cell_isin_clustering,:]\n",
    "counts = counts[:,gene_isin_normdata]"
   ]
  },
  {
   "cell_type": "code",
   "execution_count": 13,
   "metadata": {},
   "outputs": [
    {
     "name": "stdout",
     "output_type": "stream",
     "text": [
      "Of 18221 total genes, returning 18154 genes that are detected in 5 or more cells.\n",
      "Output shape: (35699, 18154)\n"
     ]
    }
   ],
   "source": [
    "counts,genes = remove_rare_genes(counts,genes[gene_isin_normdata], 5)"
   ]
  },
  {
   "cell_type": "code",
   "execution_count": 14,
   "metadata": {
    "code_folding": []
   },
   "outputs": [
    {
     "name": "stdout",
     "output_type": "stream",
     "text": [
      "CPU times: user 9 µs, sys: 1e+03 ns, total: 10 µs\n",
      "Wall time: 16.7 µs\n"
     ]
    }
   ],
   "source": [
    "%%time\n",
    "dataset = dict(counts= counts,\n",
    "               genes = genes,\n",
    "               clusters = clusters,\n",
    "               cluster_names = cluster_names,\n",
    "               batches = batches,\n",
    "               batch_names=batch_names,\n",
    "               countfile=countfile,\n",
    "               clusterfile=clusterfile,\n",
    "               label = 'Tran2019 - clustered cells and selected genes only')"
   ]
  },
  {
   "cell_type": "code",
   "execution_count": 15,
   "metadata": {},
   "outputs": [
    {
     "name": "stdout",
     "output_type": "stream",
     "text": [
      "counts <class 'scipy.sparse.csc.csc_matrix'>\n",
      "genes <class 'numpy.ndarray'>\n",
      "clusters <class 'numpy.ndarray'>\n",
      "cluster_names <class 'numpy.ndarray'>\n",
      "batches <class 'numpy.ndarray'>\n",
      "batch_names <class 'numpy.ndarray'>\n",
      "countfile <class 'str'>\n",
      "clusterfile <class 'str'>\n",
      "label <class 'str'>\n"
     ]
    },
    {
     "data": {
      "text/plain": [
       "[None, None, None, None, None, None, None, None, None]"
      ]
     },
     "execution_count": 15,
     "metadata": {},
     "output_type": "execute_result"
    }
   ],
   "source": [
    "[print(k, type(dataset[k])) for k in dataset.keys()]"
   ]
  },
  {
   "cell_type": "code",
   "execution_count": 16,
   "metadata": {},
   "outputs": [
    {
     "name": "stdout",
     "output_type": "stream",
     "text": [
      "{'counts': <35699x18154 sparse matrix of type '<class 'numpy.float64'>'\n",
      "\twith 132584766 stored elements in Compressed Sparse Column format>, 'genes': array(['Xkr4', 'Mrpl15', 'Lypla1', ..., 'U2af1l4', 'Umad1', 'Zfand4'],\n",
      "      dtype='<U14'), 'clusters': array([42, 33, 33, ..., 43, 32, 39]), 'cluster_names': array(['10_Novel', '11_Novel', '12_ooDS_NT', '13_Novel', '14_ooDS_Cck',\n",
      "       '15_Novel', '16_ooDS_DV', '17_Tbr1_S1', '18_Novel', '19_Novel',\n",
      "       '1_W3D1.1', '20_Novel', '21_Tbr1_S2', '22_M5', '23_W3D2',\n",
      "       '24_Novel', '25_Novel', '26_Novel', '27_Novel', '28_FmidiOFF',\n",
      "       '29_Novel', '2_W3D1.2', '30_Novel', '31_M2', '32_F_Novel', '33_M1',\n",
      "       '34_Novel', '35_Novel', '36_Novel', '37_Novel', '38_FmidiON',\n",
      "       '39_Novel', '3_FminiON', '40_M1dup', '41_AlphaONT', '42_AlphaOFFS',\n",
      "       '43_AlphaONS', '44_Novel', '45_AlphaOFFT', '4_FminiOFF', '5_J-RGC',\n",
      "       '6_W3B', '7_Novel', '8_Novel', '9_Tbr1_Novel'], dtype='<U12'), 'batches': array([0, 0, 0, ..., 2, 2, 2]), 'batch_names': array(['Batch1', 'Batch2', 'Batch3'], dtype='<U6'), 'countfile': 'datasets/retina/tran_ganglion/GSE133382_AtlasRGCs_CountMatrix.csv', 'clusterfile': 'datasets/retina/tran_ganglion/RGC_Atlas_coordinates.txt', 'label': 'Tran2019 - clustered cells and selected genes only'}\n"
     ]
    }
   ],
   "source": [
    "print(dataset)"
   ]
  },
  {
   "cell_type": "code",
   "execution_count": 17,
   "metadata": {
    "code_folding": []
   },
   "outputs": [],
   "source": [
    "with open(countfile + '_preprocessed.pickle', \"wb\") as f:\n",
    "    pickle.dump(dataset, f, protocol=4)"
   ]
  },
  {
   "cell_type": "code",
   "execution_count": 3,
   "metadata": {},
   "outputs": [],
   "source": [
    "%load_ext watermark"
   ]
  },
  {
   "cell_type": "code",
   "execution_count": 4,
   "metadata": {},
   "outputs": [
    {
     "name": "stdout",
     "output_type": "stream",
     "text": [
      "Last updated: 2021-05-21T18:37:17.053295+02:00\n",
      "\n",
      "Python implementation: CPython\n",
      "Python version       : 3.8.0\n",
      "IPython version      : 7.21.0\n",
      "\n",
      "Compiler    : GCC 8.3.0\n",
      "OS          : Linux\n",
      "Release     : 3.10.0-957.el7.x86_64\n",
      "Machine     : x86_64\n",
      "Processor   : x86_64\n",
      "CPU cores   : 40\n",
      "Architecture: 64bit\n",
      "\n"
     ]
    }
   ],
   "source": [
    "watermark"
   ]
  },
  {
   "cell_type": "code",
   "execution_count": 7,
   "metadata": {},
   "outputs": [
    {
     "name": "stdout",
     "output_type": "stream",
     "text": [
      "pandas: 1.2.0\n",
      "numpy : 1.20.1\n",
      "scipy : 1.6.0\n",
      "\n"
     ]
    }
   ],
   "source": [
    "watermark --iversions"
   ]
  },
  {
   "cell_type": "code",
   "execution_count": null,
   "metadata": {},
   "outputs": [],
   "source": []
  }
 ],
 "metadata": {
  "kernelspec": {
   "display_name": "Python 3 (ipykernel)",
   "language": "python",
   "name": "python3"
  },
  "language_info": {
   "codemirror_mode": {
    "name": "ipython",
    "version": 3
   },
   "file_extension": ".py",
   "mimetype": "text/x-python",
   "name": "python",
   "nbconvert_exporter": "python",
   "pygments_lexer": "ipython3",
   "version": "3.8.10"
  },
  "varInspector": {
   "cols": {
    "lenName": 16,
    "lenType": 16,
    "lenVar": 40
   },
   "kernels_config": {
    "python": {
     "delete_cmd_postfix": "",
     "delete_cmd_prefix": "del ",
     "library": "var_list.py",
     "varRefreshCmd": "print(var_dic_list())"
    },
    "r": {
     "delete_cmd_postfix": ") ",
     "delete_cmd_prefix": "rm(",
     "library": "var_list.r",
     "varRefreshCmd": "cat(var_dic_list()) "
    }
   },
   "types_to_exclude": [
    "module",
    "function",
    "builtin_function_or_method",
    "instance",
    "_Feature"
   ],
   "window_display": false
  }
 },
 "nbformat": 4,
 "nbformat_minor": 4
}
