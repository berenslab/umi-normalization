{
 "cells": [
  {
   "cell_type": "code",
   "execution_count": 1,
   "metadata": {},
   "outputs": [
    {
     "data": {
      "text/html": [
       "<style>.container { width:90% !important; }</style>"
      ],
      "text/plain": [
       "<IPython.core.display.HTML object>"
      ]
     },
     "metadata": {},
     "output_type": "display_data"
    },
    {
     "name": "stderr",
     "output_type": "stream",
     "text": [
      "/usr/local/lib/python3.6/dist-packages/anndata/_core/anndata.py:21: FutureWarning: pandas.core.index is deprecated and will be removed in a future version.  The public classes are available in the top-level namespace.\n",
      "  from pandas.core.index import RangeIndex\n"
     ]
    }
   ],
   "source": [
    "from IPython.core.display import display, HTML\n",
    "display(HTML(\"<style>.container { width:90% !important; }</style>\"))\n",
    "\n",
    "#import dmitrys loading code\n",
    "import sys; sys.path.append('../../libs/rna-seq-tsne/')\n",
    "import rnaseqTools\n",
    "\n",
    "import pickle\n",
    "import os.path\n",
    "import pandas as pd\n",
    "import numpy as np\n",
    "import warnings\n",
    "import anndata\n",
    "from scipy.io import mmread\n",
    "from scipy import sparse\n",
    "\n",
    "from tools import remove_rare_genes"
   ]
  },
  {
   "cell_type": "markdown",
   "metadata": {},
   "source": [
    "# PMBC data"
   ]
  },
  {
   "cell_type": "code",
   "execution_count": 2,
   "metadata": {},
   "outputs": [],
   "source": [
    "def load_PMBC_dataset(folder,genename_file='genes.tsv'):\n",
    "    counts = mmread(folder + 'matrix.mtx')\n",
    "    counts = sparse.csr_matrix(counts).T\n",
    "    genes = pd.read_csv(folder + genename_file, header=None, sep='\\t')\n",
    "    genes = genes.values[:,1].squeeze().astype(str)\n",
    "    return counts,genes"
   ]
  },
  {
   "cell_type": "code",
   "execution_count": 3,
   "metadata": {},
   "outputs": [
    {
     "name": "stdout",
     "output_type": "stream",
     "text": [
      "Of 20678 total genes, returning 16809 genes that are detected in 5 or more cells.\n",
      "Output shape: (33148, 16809)\n",
      "CPU times: user 44.6 s, sys: 777 ms, total: 45.4 s\n",
      "Wall time: 45.8 s\n"
     ]
    }
   ],
   "source": [
    "%%time\n",
    "#50sec\n",
    "folder = 'datasets/33k_pbmc/'\n",
    "label = '33k PBMC (v1)'\n",
    "counts,genes=load_PMBC_dataset(folder)\n",
    "counts,genes=remove_rare_genes(counts,genes,minimum_detected_cells_per_gene=5)\n",
    "\n",
    "counts = sparse.csr_matrix(counts)\n",
    "\n",
    "dataset = dict(counts=counts,genes=genes,label=label,folder=folder)\n",
    "pickle.dump(dataset, open(folder+'preprocessed.pickle', \"wb\"), protocol=4)"
   ]
  },
  {
   "cell_type": "markdown",
   "metadata": {},
   "source": [
    "# Negative control data\n",
    "### 10X v2 - Svensson 2017 (technical control)"
   ]
  },
  {
   "cell_type": "code",
   "execution_count": 4,
   "metadata": {
    "code_folding": []
   },
   "outputs": [
    {
     "name": "stdout",
     "output_type": "stream",
     "text": [
      "Of 20647 total genes, returning 13025 genes that are detected in 5 or more cells.\n",
      "Output shape: (2000, 13025)\n",
      "Of 21411 total genes, returning 13239 genes that are detected in 5 or more cells.\n",
      "Output shape: (2000, 13239)\n",
      "CPU times: user 1.74 s, sys: 41.4 ms, total: 1.78 s\n",
      "Wall time: 1.78 s\n"
     ]
    }
   ],
   "source": [
    "%%time\n",
    "folder = 'datasets/10x/'\n",
    "file = folder + 'svensson_chromium_control.h5ad'\n",
    "\n",
    "raw_input = anndata.read(file)\n",
    "\n",
    "for i,sample_id in enumerate([20311, 20312]):\n",
    "    sample_input = raw_input[raw_input.obs.query('sample == \"%u\"' % (sample_id)).index]\n",
    "    label = '2k Chromium control Svensson 2017 (10x v2) - sample %u' % (i+1)\n",
    "    \n",
    "    counts_pd = sample_input.to_df()\n",
    "    genes = np.array(counts_pd.columns)\n",
    "    counts = counts_pd.to_numpy()\n",
    "    counts,genes=remove_rare_genes(counts,genes,minimum_detected_cells_per_gene=5)\n",
    "\n",
    "    counts = sparse.csr_matrix(counts)\n",
    "\n",
    "    dataset = dict(counts=counts,genes=genes,label=label,folder=folder,protocol='10X')\n",
    "    pickle.dump(dataset, open(folder+'sample%u_preprocessed.pickle' % (i+1), \"wb\"), protocol=4)"
   ]
  },
  {
   "cell_type": "markdown",
   "metadata": {},
   "source": [
    "# inDrop"
   ]
  },
  {
   "cell_type": "markdown",
   "metadata": {},
   "source": [
    "### Klein 2015 (one technial and various biological controls)"
   ]
  },
  {
   "cell_type": "code",
   "execution_count": 5,
   "metadata": {},
   "outputs": [],
   "source": [
    "paths =['datasets/indrop/GSM1599501_K562_pure_RNA.csv']\n",
    "ns = ['1k']\n",
    "labelsshort = ['K562_pure_RNA']"
   ]
  },
  {
   "cell_type": "code",
   "execution_count": 6,
   "metadata": {},
   "outputs": [],
   "source": [
    "def pickle_klein_data(path,labelshort,n):\n",
    "    label = '%s %s Klein 2015 (inDrop)' % (n,labelshort)\n",
    "    df = pd.read_csv(path,index_col=0)\n",
    "    genes = df.index\n",
    "    counts = df.values.T\n",
    "    counts,genes = remove_rare_genes(counts,genes,minimum_detected_cells_per_gene=5)\n",
    "    counts = sparse.csr_matrix(counts)\n",
    "    dataset = dict(counts=counts,genes=genes,folder=path,label=label,protocol='inDrop')\n",
    "    picklefile = '%s_preprocessed.pickle' % (path)\n",
    "    pickle.dump(dataset, open(picklefile, \"wb\"), protocol=4)"
   ]
  },
  {
   "cell_type": "code",
   "execution_count": 7,
   "metadata": {},
   "outputs": [
    {
     "name": "stdout",
     "output_type": "stream",
     "text": [
      "Of 25266 total genes, returning 25025 genes that are detected in 5 or more cells.\n",
      "Output shape: (953, 25025)\n",
      "CPU times: user 2.52 s, sys: 121 ms, total: 2.64 s\n",
      "Wall time: 2.82 s\n"
     ]
    }
   ],
   "source": [
    "%%time\n",
    "## pickle-prepares all klein datasets\n",
    "for p,n,l in zip(paths,ns,labelsshort):\n",
    "    pickle_klein_data(p,l,n)"
   ]
  },
  {
   "cell_type": "markdown",
   "metadata": {},
   "source": [
    "# MicrowellSeq"
   ]
  },
  {
   "cell_type": "markdown",
   "metadata": {},
   "source": [
    "### Han 2018 (biological controls)"
   ]
  },
  {
   "cell_type": "code",
   "execution_count": 8,
   "metadata": {},
   "outputs": [
    {
     "name": "stdout",
     "output_type": "stream",
     "text": [
      "..................... done\n",
      "GSM2906413_EmbryonicStemCell_dge.txt.gz (9994, 20682)\n",
      "Of 9994 cells, returning 9994 cells that have a depth larger than 500\n",
      "New shape: (9994, 20682)\n",
      "Of 20677 total genes, returning 15069 genes that are detected in 5 or more cells.\n",
      "Output shape: (9994, 15069)\n",
      "{'counts': <9994x15069 sparse matrix of type '<class 'numpy.float64'>'\n",
      "\twith 6762689 stored elements in Compressed Sparse Row format>, 'genes': array(['0610007P14Rik', '0610009B22Rik', '0610009L18Rik', ..., 'n-R5s151',\n",
      "       'n-R5s2', 'n-R5s88'], dtype='<U14'), 'cells': array(['EmbryonicStemCells_1.CTCGCAATCAACAACCTA',\n",
      "       'EmbryonicStemCells_1.CCGCTAATTCCAGTTGCC',\n",
      "       'EmbryonicStemCells_1.CTCGCACACAAGACACCC', ...,\n",
      "       'EmbryonicStemCells_1.CGAGTACCAGACAGATGG',\n",
      "       'EmbryonicStemCells_1.CGGCAGCTGAAAGGCTGC',\n",
      "       'EmbryonicStemCells_1.CTGTGTGAGATCGTCCCG'], dtype=object), 'folder': 'datasets/microwellseq/GSM2906413_EmbryonicStemCell_dge.txt.gz', 'label': 'Han 2018 EmbryonicStemCell control (MicrowellSeq)', 'protocol': 'microwellSeq'}\n",
      "CPU times: user 1min 1s, sys: 1.94 s, total: 1min 3s\n",
      "Wall time: 1min 3s\n"
     ]
    }
   ],
   "source": [
    "%%time\n",
    "## Preproc files for ES cells (works for CJ7 deep, CJ7 normal and E14)\n",
    "files_raw = ['datasets/microwellseq/GSM2906413_EmbryonicStemCell_dge.txt.gz']\n",
    "separators = [' ']\n",
    "\n",
    "### iterate over files and make pickles for each tissue type\n",
    "\n",
    "for i,(file_raw,sep) in enumerate(zip(files_raw,separators)):\n",
    "\n",
    "    file = file_raw.split('/')[-1]\n",
    "    cellline = file.split('_')[1]\n",
    "    \n",
    "    counts, genes, cells = rnaseqTools.sparseload(file_raw, sep=sep)\n",
    "\n",
    "    counts = counts.toarray()\n",
    "    print(file,counts.shape)\n",
    "    \n",
    "    #remove low depth cells\n",
    "    depths = np.array(np.sum(counts,axis=1)).flatten()\n",
    "    minimum_depth = 500\n",
    "    cells = cells[depths>minimum_depth]\n",
    "    counts = counts[depths>minimum_depth,:]\n",
    "    print('Of',len(depths),'cells, returning',sum(depths>minimum_depth),'cells that have a depth larger than', minimum_depth)\n",
    "    print('New shape:', counts.shape)    \n",
    "    \n",
    "    counts,genes = remove_rare_genes(counts,genes,minimum_detected_cells_per_gene=5)\n",
    "    counts = sparse.csr_matrix(counts)\n",
    "\n",
    "    dataset = dict(counts=counts,genes=genes,cells=cells,folder=file_raw,\n",
    "                   label='Han 2018 %s control (MicrowellSeq)' % (cellline),\n",
    "                   protocol='microwellSeq')\n",
    "    \n",
    "    print(dataset)\n",
    "    picklefile = '%s_preprocessed.pickle' % (file_raw)\n",
    "    pickle.dump(dataset, open(picklefile, \"wb\"), protocol=4)"
   ]
  },
  {
   "cell_type": "code",
   "execution_count": null,
   "metadata": {},
   "outputs": [],
   "source": []
  }
 ],
 "metadata": {
  "kernelspec": {
   "display_name": "Python 3",
   "language": "python",
   "name": "python3"
  },
  "language_info": {
   "codemirror_mode": {
    "name": "ipython",
    "version": 3
   },
   "file_extension": ".py",
   "mimetype": "text/x-python",
   "name": "python",
   "nbconvert_exporter": "python",
   "pygments_lexer": "ipython3",
   "version": "3.6.9"
  },
  "varInspector": {
   "cols": {
    "lenName": 16,
    "lenType": 16,
    "lenVar": 40
   },
   "kernels_config": {
    "python": {
     "delete_cmd_postfix": "",
     "delete_cmd_prefix": "del ",
     "library": "var_list.py",
     "varRefreshCmd": "print(var_dic_list())"
    },
    "r": {
     "delete_cmd_postfix": ") ",
     "delete_cmd_prefix": "rm(",
     "library": "var_list.r",
     "varRefreshCmd": "cat(var_dic_list()) "
    }
   },
   "types_to_exclude": [
    "module",
    "function",
    "builtin_function_or_method",
    "instance",
    "_Feature"
   ],
   "window_display": false
  }
 },
 "nbformat": 4,
 "nbformat_minor": 4
}
